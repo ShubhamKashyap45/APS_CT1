{
 "cells": [
  {
   "cell_type": "code",
   "execution_count": 16,
   "metadata": {},
   "outputs": [
    {
     "ename": "AttributeError",
     "evalue": "'B' object has no attribute 'i'",
     "output_type": "error",
     "traceback": [
      "\u001b[1;31m---------------------------------------------------------------------------\u001b[0m",
      "\u001b[1;31mAttributeError\u001b[0m                            Traceback (most recent call last)",
      "\u001b[1;32m<ipython-input-16-7b4743224680>\u001b[0m in \u001b[0;36m<module>\u001b[1;34m\u001b[0m\n\u001b[0;32m     25\u001b[0m \u001b[1;33m\u001b[0m\u001b[0m\n\u001b[0;32m     26\u001b[0m \u001b[1;33m\u001b[0m\u001b[0m\n\u001b[1;32m---> 27\u001b[1;33m \u001b[0mmain\u001b[0m\u001b[1;33m(\u001b[0m\u001b[1;33m)\u001b[0m\u001b[1;33m\u001b[0m\u001b[1;33m\u001b[0m\u001b[0m\n\u001b[0m",
      "\u001b[1;32m<ipython-input-16-7b4743224680>\u001b[0m in \u001b[0;36mmain\u001b[1;34m()\u001b[0m\n\u001b[0;32m     20\u001b[0m \u001b[1;32mdef\u001b[0m \u001b[0mmain\u001b[0m\u001b[1;33m(\u001b[0m\u001b[1;33m)\u001b[0m\u001b[1;33m:\u001b[0m\u001b[1;33m\u001b[0m\u001b[1;33m\u001b[0m\u001b[0m\n\u001b[0;32m     21\u001b[0m     \u001b[0mb\u001b[0m \u001b[1;33m=\u001b[0m \u001b[0mB\u001b[0m\u001b[1;33m(\u001b[0m\u001b[1;33m)\u001b[0m\u001b[1;33m\u001b[0m\u001b[1;33m\u001b[0m\u001b[0m\n\u001b[1;32m---> 22\u001b[1;33m     \u001b[0mb\u001b[0m\u001b[1;33m.\u001b[0m\u001b[0mml\u001b[0m\u001b[1;33m(\u001b[0m\u001b[1;33m)\u001b[0m\u001b[1;33m\u001b[0m\u001b[1;33m\u001b[0m\u001b[0m\n\u001b[0m\u001b[0;32m     23\u001b[0m     \u001b[0mprint\u001b[0m\u001b[1;33m(\u001b[0m\u001b[0mb\u001b[0m\u001b[1;33m.\u001b[0m\u001b[0mi\u001b[0m\u001b[1;33m)\u001b[0m\u001b[1;33m\u001b[0m\u001b[1;33m\u001b[0m\u001b[0m\n\u001b[0;32m     24\u001b[0m     \u001b[0mprint\u001b[0m\u001b[1;33m(\u001b[0m\u001b[0mb\u001b[0m\u001b[1;33m.\u001b[0m\u001b[0mj\u001b[0m\u001b[1;33m)\u001b[0m\u001b[1;33m\u001b[0m\u001b[1;33m\u001b[0m\u001b[0m\n",
      "\u001b[1;32m<ipython-input-16-7b4743224680>\u001b[0m in \u001b[0;36mml\u001b[1;34m(self)\u001b[0m\n\u001b[0;32m     15\u001b[0m \u001b[1;33m\u001b[0m\u001b[0m\n\u001b[0;32m     16\u001b[0m     \u001b[1;32mdef\u001b[0m \u001b[0mml\u001b[0m\u001b[1;33m(\u001b[0m\u001b[0mself\u001b[0m\u001b[1;33m)\u001b[0m\u001b[1;33m:\u001b[0m\u001b[1;33m\u001b[0m\u001b[1;33m\u001b[0m\u001b[0m\n\u001b[1;32m---> 17\u001b[1;33m         \u001b[0mself\u001b[0m\u001b[1;33m.\u001b[0m\u001b[0mi\u001b[0m \u001b[1;33m+=\u001b[0m \u001b[1;36m1\u001b[0m\u001b[1;33m\u001b[0m\u001b[1;33m\u001b[0m\u001b[0m\n\u001b[0m\u001b[0;32m     18\u001b[0m \u001b[1;33m\u001b[0m\u001b[0m\n\u001b[0;32m     19\u001b[0m \u001b[1;33m\u001b[0m\u001b[0m\n",
      "\u001b[1;31mAttributeError\u001b[0m: 'B' object has no attribute 'i'"
     ]
    }
   ],
   "source": [
    "#Q4\n",
    "\n",
    "class A:\n",
    "    def _init_(self, i=0):\n",
    "        self.i = i\n",
    "\n",
    "    def ml(self):\n",
    "        self.i += 1\n",
    "\n",
    "\n",
    "class B(A):\n",
    "    def _init_(self, j=0):\n",
    "        super()._init_(3)\n",
    "        self.j = j\n",
    "\n",
    "    def ml(self):\n",
    "        self.i += 1\n",
    "\n",
    "\n",
    "def main():\n",
    "    b = B()\n",
    "    b.ml()\n",
    "    print(b.i)\n",
    "    print(b.j)\n",
    "\n",
    "\n",
    "main()"
   ]
  },
  {
   "cell_type": "code",
   "execution_count": 14,
   "metadata": {},
   "outputs": [
    {
     "name": "stdout",
     "output_type": "stream",
     "text": [
      "Done\n",
      "Nothing is wrong\n",
      "Finally we are here\n",
      "Continue\n"
     ]
    }
   ],
   "source": [
    "#Q5\n",
    "try:\n",
    "    ST = 10 * [0]\n",
    "    x = ST[9]\n",
    "    print(\"Done\")\n",
    "except IndexError:\n",
    "    print(\"Index out of bound\")\n",
    "else:\n",
    "    print(\"Nothing is wrong\")\n",
    "finally:\n",
    "    print(\"Finally we are here\")\n",
    "    \n",
    "print(\"Continue\")"
   ]
  },
  {
   "cell_type": "code",
   "execution_count": 6,
   "metadata": {},
   "outputs": [
    {
     "name": "stdout",
     "output_type": "stream",
     "text": [
      "0b10100100110101101111 - in binary\n",
      "0x4d2 - in hexadecimal\n"
     ]
    }
   ],
   "source": [
    "#Q3\n",
    "\n",
    "a = 'A4D6F'\n",
    "b = 1234\n",
    "scale = 16\n",
    "res = bin(int(a, scale))\n",
    "print(res, \"- in binary\")\n",
    "print(hex(b), \"- in hexadecimal\")"
   ]
  },
  {
   "cell_type": "code",
   "execution_count": 8,
   "metadata": {},
   "outputs": [
    {
     "name": "stdout",
     "output_type": "stream",
     "text": [
      "current: 1.0353753235547887\n",
      "terminal voltage: 18.21225194132873\n"
     ]
    }
   ],
   "source": [
    "#Q2\n",
    "\n",
    "r1=int(4)\n",
    "r2=int(5)\n",
    "r3=int(7)\n",
    "r4=int(5)\n",
    "ri=(6)\n",
    "emf=int(12)\n",
    "r=11+0.59\n",
    "z=emf/r\n",
    "print(\"current:\",z)\n",
    "v=emf+z*ri\n",
    "print(\"terminal voltage:\",v)"
   ]
  },
  {
   "cell_type": "code",
   "execution_count": 9,
   "metadata": {},
   "outputs": [
    {
     "name": "stdout",
     "output_type": "stream",
     "text": [
      "[[3 9 8 7 6]\n",
      " [6 3 9 8 7]\n",
      " [7 6 3 9 8]\n",
      " [9 8 7 6 3]]\n"
     ]
    }
   ],
   "source": [
    "#Q1\n",
    "\n",
    "import numpy as np\n",
    "m1 = np.array([[3,9,8,7,6],[6,3,9,8,7],[7,6,3,9,8],[9,8,7,6,3]])\n",
    "print(m1)"
   ]
  },
  {
   "cell_type": "code",
   "execution_count": null,
   "metadata": {},
   "outputs": [],
   "source": []
  }
 ],
 "metadata": {
  "kernelspec": {
   "display_name": "Python 3",
   "language": "python",
   "name": "python3"
  },
  "language_info": {
   "codemirror_mode": {
    "name": "ipython",
    "version": 3
   },
   "file_extension": ".py",
   "mimetype": "text/x-python",
   "name": "python",
   "nbconvert_exporter": "python",
   "pygments_lexer": "ipython3",
   "version": "3.7.6"
  }
 },
 "nbformat": 4,
 "nbformat_minor": 4
}
